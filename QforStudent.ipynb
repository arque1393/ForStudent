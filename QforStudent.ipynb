{
 "cells": [
  {
   "cell_type": "code",
   "execution_count": null,
   "metadata": {},
   "outputs": [],
   "source": []
  },
  {
   "cell_type": "markdown",
   "metadata": {},
   "source": [
    "# **Factorization**\n",
    "\n",
    "## 1. $2x^{3} + 3x^{2} – 11x – 6$ <br>\n",
    "## 2. $x^3 − 6x^2 + 7x – 1$  <br>\n",
    "## 3. $2x^3-17x^2+18x+72$ <br>\n",
    "## 4. Find the nearest expression of <br> $27x^3 + 9x^2 − 18x − 10$ that can divisible by $3x-2$\n",
    "\n",
    "## 5. Devide : $x^4 + x^3 + 7x^2 − 6x + 8$ with $x^2 + 2x + 8$\n",
    "\n",
    "\n",
    "# **Linear inequations**\n",
    "## 1.  In a game, a person wins if he gets the sum greater than 20 in four throws of a die.In three throws he got numbers 6, 5, 4. What should be his fourth throw, so that he wins the game?\n",
    "## 2. The longest side of a triangle is 3 times the shortest side and the third side is 2 cm shorter than the longest side. If the perimeter of the triangle is at least 61 cm, find the minimum length of the shortest side.\n",
    "## 3. A man wants to cut three lengths from a single piece of board of length 91 cm. The second length is to be 3 cm longer than the shortest and the third length is to be twice as long as the shortest. What are the possible lengths of the shortest board if the third piece is to be at least 5 cm longer than the second?\n",
    "\n",
    "## 4. Solve  \n",
    "# $\\frac{x}{4}<\\frac{5x-2}{3}-\\frac{7x-3}{5}$\n",
    "## 5. Solve \n",
    "# $\\frac{2x-1}{5}<\\frac{3x-2}{4}-\\frac{2-x}{5}$"
   ]
  },
  {
   "cell_type": "markdown",
   "metadata": {},
   "source": []
  },
  {
   "cell_type": "markdown",
   "metadata": {},
   "source": []
  }
 ],
 "metadata": {
  "kernelspec": {
   "display_name": "Python 3 (ipykernel)",
   "language": "python",
   "name": "python3"
  },
  "language_info": {
   "codemirror_mode": {
    "name": "ipython",
    "version": 3
   },
   "file_extension": ".py",
   "mimetype": "text/x-python",
   "name": "python",
   "nbconvert_exporter": "python",
   "pygments_lexer": "ipython3",
   "version": "3.10.4"
  }
 },
 "nbformat": 4,
 "nbformat_minor": 4
}
